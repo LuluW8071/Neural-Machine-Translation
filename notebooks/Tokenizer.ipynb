{
  "nbformat": 4,
  "nbformat_minor": 0,
  "metadata": {
    "colab": {
      "provenance": []
    },
    "kernelspec": {
      "name": "python3",
      "display_name": "Python 3"
    },
    "language_info": {
      "name": "python"
    }
  },
  "cells": [
    {
      "cell_type": "markdown",
      "source": [
        "## [Nepali Tokenizer](https://github.com/basnetsoyuj/nepali-tokenizers)"
      ],
      "metadata": {
        "id": "CTZTx1r3nuyr"
      }
    },
    {
      "cell_type": "code",
      "execution_count": 7,
      "metadata": {
        "id": "MCJquOamnspq"
      },
      "outputs": [],
      "source": [
        "!pip install nepalitokenizers -q"
      ]
    },
    {
      "cell_type": "code",
      "source": [
        "from nepalitokenizers import SentencePiece\n",
        "from tokenizers.processors import TemplateProcessing\n",
        "\n",
        "texts = [\n",
        "    \"म स्कुल जान्छु।\",\n",
        "    \"यदि तिमी आएनौ भने, हामीले खेल सुरु गर्नेछौं।\",\n",
        "    \"समाजमा नैतिक मूल्यहरूको संरक्षण गर्नका लागि हामी सबैको योगदान आवश्यक छ।\"\n",
        "]\n",
        "\n",
        "# Nepali Sentence Pair Tokenizer\n",
        "tokenizer_sp = SentencePiece()\n",
        "tokenizer_sp.post_processor = TemplateProcessing()\n",
        "\n",
        "for text in texts:\n",
        "    tokens = tokenizer_sp.encode(text)\n",
        "    print(\"\\nText:\", text)\n",
        "    print(\"Token Ids:\", tokens.ids)\n",
        "    print(\"Tokens:\", tokens.tokens)\n",
        "    print(\"Revert:\", tokenizer_sp.decode(tokens.ids))"
      ],
      "metadata": {
        "colab": {
          "base_uri": "https://localhost:8080/"
        },
        "id": "7SY1_1ZRnzQ3",
        "outputId": "e489d482-36ba-409f-e1df-ec1b221f0a63"
      },
      "execution_count": 8,
      "outputs": [
        {
          "output_type": "stream",
          "name": "stdout",
          "text": [
            "\n",
            "Text: म स्कुल जान्छु।\n",
            "Token Ids: [7, 59, 1445, 11871, 36]\n",
            "Tokens: ['▁', 'म', '▁स्कुल', '▁जान्छु', '।']\n",
            "Revert: म स्कुल जान्छु।\n",
            "\n",
            "Text: यदि तिमी आएनौ भने, हामीले खेल सुरु गर्नेछौं।\n",
            "Token Ids: [1467, 3325, 7338, 819, 143, 341, 222, 172, 12593, 36]\n",
            "Tokens: ['▁यदि', '▁तिमी', '▁आएन', 'ौ', '▁भने,', '▁हामीले', '▁खेल', '▁सुरु', '▁गर्नेछौं', '।']\n",
            "Revert: यदि तिमी आएनौ भने, हामीले खेल सुरु गर्नेछौं।\n",
            "\n",
            "Text: समाजमा नैतिक मूल्यहरूको संरक्षण गर्नका लागि हामी सबैको योगदान आवश्यक छ।\n",
            "Token Ids: [1695, 5676, 519, 393, 809, 484, 24, 197, 2122, 1231, 313, 47]\n",
            "Tokens: ['▁समाजमा', '▁नैतिक', '▁मूल्य', 'हरूको', '▁संरक्षण', '▁गर्नका', '▁लागि', '▁हामी', '▁सबैको', '▁योगदान', '▁आवश्यक', '▁छ।']\n",
            "Revert: समाजमा नैतिक मूल्यहरूको संरक्षण गर्नका लागि हामी सबैको योगदान आवश्यक छ।\n"
          ]
        }
      ]
    },
    {
      "cell_type": "markdown",
      "source": [
        "## T5-Small Tokenizer"
      ],
      "metadata": {
        "id": "o8AzPc5po5rL"
      }
    },
    {
      "cell_type": "code",
      "source": [
        "from transformers import AutoTokenizer\n",
        "\n",
        "# T5-Small Sentence Piece Tokenizer\n",
        "tokenizer = AutoTokenizer.from_pretrained(\"t5-small\")\n",
        "\n",
        "texts = [\n",
        "    \"I go to school.\",\n",
        "    \"If you don’t come, we will start the game.\",\n",
        "    \"To preserve moral values in society, the contribution of all of us is necessary.\"\n",
        "]\n",
        "\n",
        "for text in texts:\n",
        "    tokens = tokenizer.tokenize(text)\n",
        "    token_ids = tokenizer.convert_tokens_to_ids(tokens)\n",
        "    print(\"\\nText:\", text)\n",
        "    print(\"Token Ids:\", token_ids)\n",
        "    print(\"Tokens:\", tokens)\n",
        "    print(\"Revert:\", tokenizer.decode(token_ids))"
      ],
      "metadata": {
        "colab": {
          "base_uri": "https://localhost:8080/"
        },
        "id": "RnJ9v4xLoWRd",
        "outputId": "d532e624-8783-49d1-d024-428897255329"
      },
      "execution_count": 9,
      "outputs": [
        {
          "output_type": "stream",
          "name": "stdout",
          "text": [
            "\n",
            "Text: I go to school.\n",
            "Token Ids: [27, 281, 12, 496, 5]\n",
            "Tokens: ['▁I', '▁go', '▁to', '▁school', '.']\n",
            "Revert: I go to school.\n",
            "\n",
            "Text: If you don’t come, we will start the game.\n",
            "Token Ids: [156, 25, 278, 22, 17, 369, 6, 62, 56, 456, 8, 467, 5]\n",
            "Tokens: ['▁If', '▁you', '▁don', '’', 't', '▁come', ',', '▁we', '▁will', '▁start', '▁the', '▁game', '.']\n",
            "Revert: If you don’t come, we will start the game.\n",
            "\n",
            "Text: To preserve moral values in society, the contribution of all of us is necessary.\n",
            "Token Ids: [304, 8996, 4854, 2620, 16, 2710, 6, 8, 6275, 13, 66, 13, 178, 19, 1316, 5]\n",
            "Tokens: ['▁To', '▁preserve', '▁moral', '▁values', '▁in', '▁society', ',', '▁the', '▁contribution', '▁of', '▁all', '▁of', '▁us', '▁is', '▁necessary', '.']\n",
            "Revert: To preserve moral values in society, the contribution of all of us is necessary.\n"
          ]
        }
      ]
    },
    {
      "cell_type": "markdown",
      "source": [
        "## Adding some preprocessings and special tokens"
      ],
      "metadata": {
        "id": "Ae3RiJwvp0zs"
      }
    },
    {
      "cell_type": "code",
      "source": [
        "import re\n",
        "\n",
        "def tokenize_english(text):\n",
        "    \"\"\"Tokenizes English text\"\"\"\n",
        "    text = text.lower().strip()                 # Normalize text\n",
        "    tokens = tokenizer.tokenize(text + \"</s>\")  # EOS:</s> tokens\n",
        "    return tokens\n",
        "\n",
        "# Tokenization Function for Nepali\n",
        "def tokenize_nepali(text):\n",
        "    \"\"\"Tokenizes Nepali text using SentencePiece tokenizer.\"\"\"\n",
        "    text = text.strip()\n",
        "    text = re.sub(r\"([.!।?])\", r\" \\1\", text)\n",
        "    token = tokenizer_sp.encode(text + \"</s>\")   # EOS:</s> tokens\n",
        "    return token"
      ],
      "metadata": {
        "id": "RGY8MrQsp3re"
      },
      "execution_count": 39,
      "outputs": []
    },
    {
      "cell_type": "code",
      "source": [
        "# Tokenizing\n",
        "def tokenize_text(english_sentence, nepali_sentence):\n",
        "    eng_tokens = tokenize_english(english_sentence)\n",
        "    nep_tokens = tokenize_nepali(nepali_sentence)\n",
        "\n",
        "    eng_token_id = tokenizer.convert_tokens_to_ids(eng_tokens)\n",
        "    nep_token_id = nep_tokens.ids\n",
        "\n",
        "    print(\"English Text:\", english_sentence)\n",
        "    print(\"English Tokens:\", eng_tokens)\n",
        "    print(\"English Tokens ID:\", eng_token_id)\n",
        "    print(\"Revert:\", tokenizer.decode(eng_token_id))\n",
        "    print(\"Token len:\", len(eng_tokens))\n",
        "\n",
        "    print(\"\\nNepali Text:\", nepali_sentence)\n",
        "    print(\"Nepali Tokens:\", nep_tokens.tokens)\n",
        "    print(\"Nepali Tokens ID:\", nep_token_id)\n",
        "    print(\"Revert:\", tokenizer_sp.decode(nep_token_id))\n",
        "    print(\"Token len:\", len(nep_tokens))"
      ],
      "metadata": {
        "id": "_j5D44SaqXPu"
      },
      "execution_count": 40,
      "outputs": []
    },
    {
      "cell_type": "code",
      "source": [
        "english_sentence = \"If you don’t come, we will start the game.\"\n",
        "nepali_sentence = \"यदि तिमी आएनौ भने, हामीले खेल सुरु गर्नेछौं।\"\n",
        "\n",
        "tokenize_text(english_sentence, nepali_sentence)"
      ],
      "metadata": {
        "colab": {
          "base_uri": "https://localhost:8080/"
        },
        "id": "mlA2XX5I-azl",
        "outputId": "3d832631-7e95-4df1-f198-9235a7319593"
      },
      "execution_count": 41,
      "outputs": [
        {
          "output_type": "stream",
          "name": "stdout",
          "text": [
            "English Text: If you don’t come, we will start the game.\n",
            "English Tokens: ['▁', 'if', '▁you', '▁don', '’', 't', '▁come', ',', '▁we', '▁will', '▁start', '▁the', '▁game', '.', '</s>']\n",
            "English Tokens ID: [3, 99, 25, 278, 22, 17, 369, 6, 62, 56, 456, 8, 467, 5, 1]\n",
            "Revert: if you don’t come, we will start the game.</s>\n",
            "Token len: 15\n",
            "\n",
            "Nepali Text: यदि तिमी आएनौ भने, हामीले खेल सुरु गर्नेछौं।\n",
            "Nepali Tokens: ['▁यदि', '▁तिमी', '▁आएन', 'ौ', '▁भने,', '▁हामीले', '▁खेल', '▁सुरु', '▁गर्नेछौं', '▁।', '</s>']\n",
            "Nepali Tokens ID: [1467, 3325, 7338, 819, 143, 341, 222, 172, 12593, 8, 6]\n",
            "Revert: यदि तिमी आएनौ भने, हामीले खेल सुरु गर्नेछौं ।\n",
            "Token len: 11\n"
          ]
        }
      ]
    },
    {
      "cell_type": "code",
      "source": [
        "nepali_sentence = \"हाम्रो देशको आर्थिक वृद्धिका लागि नवप्रवर्तनशील सोच र लगानीको आवश्यकता पर्दछ। जबसम्म हामी परिवर्तनका लागि पहल गर्दैनौं, तबसम्म कुनै पनि सुधार सम्भव छैन।\"\n",
        "english_sentence = \"For the economic growth of our country, innovative thinking and investment are required. Unless we take the initiative for change, no improvement is possible.\"\n",
        "\n",
        "tokenize_text(english_sentence, nepali_sentence)"
      ],
      "metadata": {
        "colab": {
          "base_uri": "https://localhost:8080/"
        },
        "id": "7aB44BQl-hzT",
        "outputId": "7576779f-cefc-4923-9a0d-f3f64223e7d8"
      },
      "execution_count": 44,
      "outputs": [
        {
          "output_type": "stream",
          "name": "stdout",
          "text": [
            "English Text: For the economic growth of our country, innovative thinking and investment are required. Unless we take the initiative for change, no improvement is possible.\n",
            "English Tokens: ['▁for', '▁the', '▁economic', '▁growth', '▁of', '▁our', '▁country', ',', '▁innovative', '▁thinking', '▁and', '▁investment', '▁are', '▁required', '.', '▁', 'unless', '▁we', '▁take', '▁the', '▁initiative', '▁for', '▁change', ',', '▁no', '▁improvement', '▁is', '▁possible', '.', '</s>']\n",
            "English Tokens ID: [21, 8, 1456, 1170, 13, 69, 684, 6, 3058, 1631, 11, 1729, 33, 831, 5, 3, 3227, 62, 240, 8, 6121, 21, 483, 6, 150, 4179, 19, 487, 5, 1]\n",
            "Revert: for the economic growth of our country, innovative thinking and investment are required. unless we take the initiative for change, no improvement is possible.</s>\n",
            "Token len: 30\n",
            "\n",
            "Nepali Text: हाम्रो देशको आर्थिक वृद्धिका लागि नवप्रवर्तनशील सोच र लगानीको आवश्यकता पर्दछ। जबसम्म हामी परिवर्तनका लागि पहल गर्दैनौं, तबसम्म कुनै पनि सुधार सम्भव छैन।\n",
            "Nepali Tokens: ['▁हाम्रो', '▁देशको', '▁आर्थिक', '▁वृद्धि', 'का', '▁लागि', '▁नव', 'प्र', 'वर्तन', 'शील', '▁सोच', '▁र', '▁लगानीको', '▁आवश्यकता', '▁पर्दछ', '▁।', '▁', 'जबसम्म', '▁हामी', '▁परिवर्तनका', '▁लागि', '▁पहल', '▁गर्दैन', 'ौं,', '▁तब', 'सम्म', '▁कुनै', '▁पनि', '▁सुधार', '▁सम्भव', '▁छैन', '▁।', '</s>']\n",
            "Nepali Tokens ID: [245, 955, 167, 724, 16, 24, 2655, 2108, 18911, 4270, 1097, 15, 4802, 974, 3135, 8, 7, 10437, 197, 7843, 24, 1429, 4600, 7065, 3360, 132, 66, 21, 727, 1545, 85, 8, 6]\n",
            "Revert: हाम्रो देशको आर्थिक वृद्धिका लागि नवप्रवर्तनशील सोच र लगानीको आवश्यकता पर्दछ । जबसम्म हामी परिवर्तनका लागि पहल गर्दैनौं, तबसम्म कुनै पनि सुधार सम्भव छैन ।\n",
            "Token len: 33\n"
          ]
        }
      ]
    },
    {
      "cell_type": "code",
      "source": [
        "nepali_sentence = \"समाजमा नैतिक मूल्यहरूको संरक्षण गर्नका लागि हामी सबैको योगदान आवश्यक छ।\"\n",
        "english_sentence =  \"To preserve moral values in society, the contribution of all of us is necessary.\"\n",
        "\n",
        "tokenize_text(english_sentence, nepali_sentence)"
      ],
      "metadata": {
        "colab": {
          "base_uri": "https://localhost:8080/"
        },
        "id": "7Q0Acqkz-q6j",
        "outputId": "ac35d100-3891-4010-9c99-f3661c3cead9"
      },
      "execution_count": 43,
      "outputs": [
        {
          "output_type": "stream",
          "name": "stdout",
          "text": [
            "English Text: To preserve moral values in society, the contribution of all of us is necessary.\n",
            "English Tokens: ['▁to', '▁preserve', '▁moral', '▁values', '▁in', '▁society', ',', '▁the', '▁contribution', '▁of', '▁all', '▁of', '▁us', '▁is', '▁necessary', '.', '</s>']\n",
            "English Tokens ID: [12, 8996, 4854, 2620, 16, 2710, 6, 8, 6275, 13, 66, 13, 178, 19, 1316, 5, 1]\n",
            "Revert: to preserve moral values in society, the contribution of all of us is necessary.</s>\n",
            "Token len: 17\n",
            "\n",
            "Nepali Text: समाजमा नैतिक मूल्यहरूको संरक्षण गर्नका लागि हामी सबैको योगदान आवश्यक छ।\n",
            "Nepali Tokens: ['▁समाजमा', '▁नैतिक', '▁मूल्य', 'हरूको', '▁संरक्षण', '▁गर्नका', '▁लागि', '▁हामी', '▁सबैको', '▁योगदान', '▁आवश्यक', '▁छ', '▁।', '</s>']\n",
            "Nepali Tokens ID: [1695, 5676, 519, 393, 809, 484, 24, 197, 2122, 1231, 313, 19, 8, 6]\n",
            "Revert: समाजमा नैतिक मूल्यहरूको संरक्षण गर्नका लागि हामी सबैको योगदान आवश्यक छ ।\n",
            "Token len: 14\n"
          ]
        }
      ]
    }
  ]
}